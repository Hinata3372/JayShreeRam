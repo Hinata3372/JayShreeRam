{
  "nbformat": 4,
  "nbformat_minor": 0,
  "metadata": {
    "colab": {
      "provenance": [],
      "gpuType": "T4"
    },
    "kernelspec": {
      "name": "python3",
      "display_name": "Python 3"
    },
    "language_info": {
      "name": "python"
    },
    "accelerator": "GPU"
  },
  "cells": [
    {
      "cell_type": "code",
      "execution_count": null,
      "metadata": {
        "colab": {
          "base_uri": "https://localhost:8080/"
        },
        "id": "wJaKHNrkaE-Q",
        "outputId": "3b9e16fb-33dd-41b7-af65-e33fbdea23c7"
      },
      "outputs": [
        {
          "output_type": "stream",
          "name": "stdout",
          "text": [
            "nvcc: NVIDIA (R) Cuda compiler driver\n",
            "Copyright (c) 2005-2023 NVIDIA Corporation\n",
            "Built on Tue_Aug_15_22:02:13_PDT_2023\n",
            "Cuda compilation tools, release 12.2, V12.2.140\n",
            "Build cuda_12.2.r12.2/compiler.33191640_0\n"
          ]
        }
      ],
      "source": [
        "!nvcc --version"
      ]
    },
    {
      "cell_type": "code",
      "source": [],
      "metadata": {
        "id": "tHrH1UqWWsQQ"
      },
      "execution_count": null,
      "outputs": []
    },
    {
      "cell_type": "code",
      "source": [
        "%%writefile vector.cu\n",
        "\n",
        "\n",
        "#include <stdio.h>\n",
        "\n",
        "#define MAX_SIZE 100\n",
        "\n",
        "// Function to add two vectors\n",
        "void addVectors(int vector1[], int vector2[], int size, int result[]) {\n",
        "    for (int i = 0; i < size; i++) {\n",
        "        result[i] = vector1[i] + vector2[i];\n",
        "    }\n",
        "}\n",
        "\n",
        "int main() {\n",
        "    int size;\n",
        "    int vector1[MAX_SIZE], vector2[MAX_SIZE], result[MAX_SIZE];\n",
        "\n",
        "    // Input size of vectors\n",
        "    printf(\"Enter the size of vectors: \");\n",
        "    scanf(\"%d\", &size);\n",
        "\n",
        "    // Input elements of first vector\n",
        "    printf(\"Enter elements of the first vector:\\n\");\n",
        "    for (int i = 0; i < size; i++) {\n",
        "        printf(\"Enter element %d: \", i + 1);\n",
        "        scanf(\"%d\", &vector1[i]);\n",
        "    }\n",
        "\n",
        "    // Input elements of second vector\n",
        "    printf(\"Enter elements of the second vector:\\n\");\n",
        "    for (int i = 0; i < size; i++) {\n",
        "        printf(\"Enter element %d: \", i + 1);\n",
        "        scanf(\"%d\", &vector2[i]);\n",
        "    }\n",
        "\n",
        "    // Adding vectors\n",
        "    addVectors(vector1, vector2, size, result);\n",
        "\n",
        "    // Displaying the result\n",
        "    printf(\"Resultant vector after addition:\\n\");\n",
        "    for (int i = 0; i < size; i++) {\n",
        "        printf(\"%d \", result[i]);\n",
        "    }\n",
        "    printf(\"\\n\");\n",
        "\n",
        "    return 0;\n",
        "}\n"
      ],
      "metadata": {
        "colab": {
          "base_uri": "https://localhost:8080/"
        },
        "id": "lctE5F8qQ9yh",
        "outputId": "d5a1c5a3-75f8-4b83-8daa-05cb98558138"
      },
      "execution_count": null,
      "outputs": [
        {
          "output_type": "stream",
          "name": "stdout",
          "text": [
            "Writing vector.cu\n"
          ]
        }
      ]
    },
    {
      "cell_type": "code",
      "source": [],
      "metadata": {
        "id": "6OfaHek5WqxL"
      },
      "execution_count": null,
      "outputs": []
    },
    {
      "cell_type": "code",
      "source": [],
      "metadata": {
        "id": "z0Dd0D7RVi4c"
      },
      "execution_count": null,
      "outputs": []
    },
    {
      "cell_type": "code",
      "source": [
        "!nvcc vector.cu -o vector_cu\n",
        "!./vector_cu\n"
      ],
      "metadata": {
        "colab": {
          "base_uri": "https://localhost:8080/"
        },
        "id": "BwGVmncIRZ8r",
        "outputId": "1b838e54-22bc-4785-9cdb-6acca2814256"
      },
      "execution_count": null,
      "outputs": [
        {
          "output_type": "stream",
          "name": "stdout",
          "text": [
            "Enter the size of vectors: 2\n",
            "Enter elements of the first vector:\n",
            "Enter element 1: 1\n",
            "Enter element 2: 2\n",
            "Enter elements of the second vector:\n",
            "Enter element 1: 1\n",
            "Enter element 2: 4\n",
            "Resultant vector after addition:\n",
            "2 6 \n"
          ]
        }
      ]
    },
    {
      "cell_type": "code",
      "source": [
        "%%writefile matrix.cu\n",
        "#include <stdio.h>\n",
        "\n",
        "#define MAX_SIZE 10\n",
        "\n",
        "// Function to perform matrix multiplication\n",
        "void multiplyMatrix(int mat1[][MAX_SIZE], int mat2[][MAX_SIZE], int result[][MAX_SIZE], int row1, int col1, int row2, int col2) {\n",
        "    if (col1 != row2) {\n",
        "        printf(\"Matrix multiplication not possible\\n\");\n",
        "        return;\n",
        "    }\n",
        "\n",
        "    for (int i = 0; i < row1; i++) {\n",
        "        for (int j = 0; j < col2; j++) {\n",
        "            result[i][j] = 0;\n",
        "            for (int k = 0; k < col1; k++) {\n",
        "                result[i][j] += mat1[i][k] * mat2[k][j];\n",
        "            }\n",
        "        }\n",
        "    }\n",
        "}\n",
        "\n",
        "// Function to display matrix\n",
        "void displayMatrix(int mat[][MAX_SIZE], int row, int col) {\n",
        "    for (int i = 0; i < row; i++) {\n",
        "        for (int j = 0; j < col; j++) {\n",
        "            printf(\"%d \", mat[i][j]);\n",
        "        }\n",
        "        printf(\"\\n\");\n",
        "    }\n",
        "}\n",
        "\n",
        "int main() {\n",
        "    int row1, col1, row2, col2;\n",
        "    int mat1[MAX_SIZE][MAX_SIZE], mat2[MAX_SIZE][MAX_SIZE], result[MAX_SIZE][MAX_SIZE];\n",
        "\n",
        "    // Input dimensions of first matrix\n",
        "    printf(\"Enter the number of rows and columns of first matrix: \");\n",
        "    scanf(\"%d %d\", &row1, &col1);\n",
        "\n",
        "    // Input elements of first matrix\n",
        "    printf(\"Enter the elements of first matrix:\\n\");\n",
        "    for (int i = 0; i < row1; i++) {\n",
        "        for (int j = 0; j < col1; j++) {\n",
        "            printf(\"Enter element [%d][%d]: \", i, j);\n",
        "            scanf(\"%d\", &mat1[i][j]);\n",
        "        }\n",
        "    }\n",
        "\n",
        "    // Input dimensions of second matrix\n",
        "    printf(\"Enter the number of rows and columns of second matrix: \");\n",
        "    scanf(\"%d %d\", &row2, &col2);\n",
        "\n",
        "    // Input elements of second matrix\n",
        "    printf(\"Enter the elements of second matrix:\\n\");\n",
        "    for (int i = 0; i < row2; i++) {\n",
        "        for (int j = 0; j < col2; j++) {\n",
        "            printf(\"Enter element [%d][%d]: \", i, j);\n",
        "            scanf(\"%d\", &mat2[i][j]);\n",
        "        }\n",
        "    }\n",
        "\n",
        "    // Perform matrix multiplication\n",
        "    multiplyMatrix(mat1, mat2, result, row1, col1, row2, col2);\n",
        "\n",
        "    // Display the result\n",
        "    printf(\"Resultant matrix after multiplication:\\n\");\n",
        "    displayMatrix(result, row1, col2);\n",
        "\n",
        "    return 0;\n",
        "}\n"
      ],
      "metadata": {
        "id": "RIblrg7pRdeZ",
        "colab": {
          "base_uri": "https://localhost:8080/"
        },
        "outputId": "39980987-4e07-4f16-f71d-740f6025ffec"
      },
      "execution_count": null,
      "outputs": [
        {
          "output_type": "stream",
          "name": "stdout",
          "text": [
            "Overwriting matrix.cu\n"
          ]
        }
      ]
    },
    {
      "cell_type": "code",
      "source": [
        "!nvcc matrix.cu -o matrix_cu\n",
        "!./matrix_cu\n"
      ],
      "metadata": {
        "colab": {
          "base_uri": "https://localhost:8080/"
        },
        "id": "rPJsbeYQrquF",
        "outputId": "7bc3bdc6-ff4d-44a5-9fb3-080c0560335e"
      },
      "execution_count": null,
      "outputs": [
        {
          "output_type": "stream",
          "name": "stdout",
          "text": [
            "Enter the number of rows and columns of first matrix: 2\n",
            "2\n",
            "Enter the elements of first matrix:\n",
            "Enter element [0][0]: 5\n",
            "Enter element [0][1]: 6\n",
            "Enter element [1][0]: 7\n",
            "Enter element [1][1]: 8\n",
            "Enter the number of rows and columns of second matrix: 2\n",
            "2\n",
            "Enter the elements of second matrix:\n",
            "Enter element [0][0]: 1\n",
            "Enter element [0][1]: 2\n",
            "Enter element [1][0]: 3\n",
            "Enter element [1][1]: 4\n",
            "Resultant matrix after multiplication:\n",
            "23 34 \n",
            "31 46 \n"
          ]
        }
      ]
    },
    {
      "cell_type": "code",
      "source": [],
      "metadata": {
        "id": "Y1Kv6zzBauvb"
      },
      "execution_count": null,
      "outputs": []
    }
  ]
}